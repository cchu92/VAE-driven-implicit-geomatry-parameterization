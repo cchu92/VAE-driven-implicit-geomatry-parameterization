{
 "cells": [
  {
   "cell_type": "code",
   "execution_count": 2,
   "metadata": {},
   "outputs": [],
   "source": [
    "# Import public pkgs\n",
    "import torch\n",
    "import torchvision\n",
    "from torch import nn\n",
    "from torch.utils.data import DataLoader\n",
    "from matplotlib import pyplot as plt"
   ]
  },
  {
   "cell_type": "code",
   "execution_count": 7,
   "metadata": {},
   "outputs": [],
   "source": [
    "# Import inhouae pkgs\n",
    "import sys\n",
    "sys.path.append('./src/') # file of\n",
    "from helper_load_data import custom_datasets, custom_transform\n",
    "from helper_VAEstruc import CNN_VAE\n",
    "from helper_display import imshow_compare"
   ]
  },
  {
   "cell_type": "markdown",
   "metadata": {},
   "source": [
    "## Import the config file and extract the configure setting"
   ]
  },
  {
   "cell_type": "code",
   "execution_count": 16,
   "metadata": {},
   "outputs": [],
   "source": [
    "import json\n",
    "with open('./src/config_cluster.json') as f:\n",
    "    config = json.load(f)\n",
    "batch_size = config['model_params']['batch_size']\n",
    "latin_dim = config['model_params']['latent_dim']\n",
    "\n",
    "learning_rate = config['train_params']['learning_rate']\n",
    "epochs = config['train_params']['epochs']\n",
    "manual_seed = config['random_seed']['manual_seed']\n",
    "cuda_manual_seed = config['random_seed']['cuda_manual_seed']"
   ]
  },
  {
   "cell_type": "markdown",
   "metadata": {},
   "source": [
    "# Load model and data croos devices"
   ]
  },
  {
   "cell_type": "code",
   "execution_count": null,
   "metadata": {},
   "outputs": [],
   "source": [
    "device = torch.device(\"cpu\") # load data to CPU device\n",
    "\n",
    "# Load model and mu(latent space vectors)\n",
    "mode_index = '280'\n",
    "PATH  = './src/save_model'\n",
    "mu = torch.load(PATH+'/mu_list_test_200.pt', map_location=device)\n",
    "x_test = torch.load(PATH+'/x_test_200.pt', map_location=device)\n",
    "model = CNN_VAE(channel_in=2,latent_dim=latin_dim)\n",
    "model.load_state_dict(torch.load(PATH+'/VAEmodel_200.pt', map_location=device))\n"
   ]
  },
  {
   "cell_type": "markdown",
   "metadata": {},
   "source": []
  }
 ],
 "metadata": {
  "kernelspec": {
   "display_name": "torch_37",
   "language": "python",
   "name": "python3"
  },
  "language_info": {
   "codemirror_mode": {
    "name": "ipython",
    "version": 3
   },
   "file_extension": ".py",
   "mimetype": "text/x-python",
   "name": "python",
   "nbconvert_exporter": "python",
   "pygments_lexer": "ipython3",
   "version": "3.7.12"
  }
 },
 "nbformat": 4,
 "nbformat_minor": 2
}
